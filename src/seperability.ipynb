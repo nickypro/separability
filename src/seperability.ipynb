{
 "cells": [
  {
   "cell_type": "markdown",
   "metadata": {},
   "source": [
    "# Seperability Insight into OPT models\n",
    "Tests to see if it is possible to remove coding ability from Meta OPT model for different scales.\n",
    "Current methods are:\n",
    "- look at activation frequency of MLP mid layers\n",
    "- Look at 'crossover threshold' of Attention heads"
   ]
  },
  {
   "cell_type": "code",
   "execution_count": null,
   "metadata": {},
   "outputs": [],
   "source": [
    "try: # if in google colab, download necessary python files\n",
    "  import google.colab\n",
    "  ! git clone https://github.com/pesvut/opt-tools.git && mv ./opt-tools/src/*.py .\n",
    "except ModuleNotFoundError:\n",
    "  pass\n",
    "! pip3 install -qq transformers datasets evaluate zstandard welford einops"
   ]
  },
  {
   "cell_type": "code",
   "execution_count": null,
   "metadata": {},
   "outputs": [],
   "source": [
    "import torch\n",
    "import numpy as np\n",
    "import pandas as pd\n",
    "import einops\n",
    "import matplotlib.pyplot as plt\n",
    "\n",
    "from model import Model\n",
    "from texts import prepare\n",
    "from activations import calculate_attn_crossover, \\\n",
    "    delete_ff_and_evaluate, evaluate_all"
   ]
  },
  {
   "cell_type": "code",
   "execution_count": null,
   "metadata": {},
   "outputs": [],
   "source": [
    "# Configure initial model and tests\n",
    "model_size, token_limit  = \"1.3b\", 1000\n",
    "run_pre_test             = False\n",
    "pre_removals = []\n",
    "\n",
    "# Removals with pre-calcualted code/pile counters\n",
    "run_pre_calc_ff          = True\n",
    "pre_calc_ff_frac         = 0.05\n",
    "pre_calc_ff_eps          = 0.001\n",
    "pre_calc_ff_counters     = {\n",
    "    \"code\": \"counts/1.3b-ff-code-counters-5e4.npy\",\n",
    "    \"pile\": \"counts/1.3b-ff-pile-counters-2e6.npy\",\n",
    "}\n",
    "\n",
    "# Removals based on Self-Attention crossover  ( set value to zero to skip )\n",
    "attn_crossover_threshold = 0\n",
    "run_attn = ( attn_crossover_threshold != 0 )\n",
    "\n",
    "# Removals based on fresh ff removal calculations\n",
    "ff_frac_removed          = 0.05\n",
    "ff_eps                   = 0.001\n",
    "\n",
    "# init panda data frame for saving nice relevant data\n",
    "df = pd.DataFrame()"
   ]
  },
  {
   "cell_type": "code",
   "execution_count": null,
   "metadata": {},
   "outputs": [],
   "source": [
    "# Load model and show details about model\n",
    "opt = Model( model_size, limit=token_limit )\n",
    "\n",
    "# Pre-pruning of model\n",
    "opt.delete_ff_keys_from_files(pre_removals)"
   ]
  },
  {
   "cell_type": "code",
   "execution_count": null,
   "metadata": {},
   "outputs": [],
   "source": [
    "# Evaluate model before removal of any neurons\n",
    "if run_pre_test:\n",
    "    data = evaluate_all( opt, 1e5 )\n",
    "    df = df.append( data, ignore_index=True )\n",
    "    print( df.T )"
   ]
  },
  {
   "cell_type": "code",
   "execution_count": null,
   "metadata": {},
   "outputs": [],
   "source": [
    "# Use pre-calculated values to prune the model\n",
    "if run_pre_calc_ff:\n",
    "    data = delete_ff_and_evaluate( opt, pre_calc_ff_frac, pre_calc_ff_eps,\n",
    "        code_counters=pre_calc_ff_counters[\"code\"],\n",
    "        pile_counters=pre_calc_ff_counters[\"pile\"])\n",
    "    df = df.append( data, ignore_index=True )\n",
    "    print( df.T )"
   ]
  },
  {
   "cell_type": "code",
   "execution_count": null,
   "metadata": {},
   "outputs": [],
   "source": [
    "if run_attn:\n",
    "    attn_data = calculate_attn_crossover( opt, 1e6 )"
   ]
  },
  {
   "cell_type": "code",
   "execution_count": null,
   "metadata": {},
   "outputs": [],
   "source": [
    "if run_attn:\n",
    "    # Choose Attn Heads to Remove\n",
    "    removals      = attn_data['crossover_multiple'] > attn_crossover_threshold\n",
    "    log_crossover = ( np.log2(attn_data['crossover_multiple']) )\n",
    "\n",
    "    # Plot Attn Heads\n",
    "    fig, ax = plt.subplots(1, 2)\n",
    "    ax[0].imshow( attn_data['removals'] )\n",
    "    ax[1].imshow( np.log2(attn_data['crossover_multiple']) )\n",
    "    plt.show()"
   ]
  },
  {
   "cell_type": "code",
   "execution_count": null,
   "metadata": {},
   "outputs": [],
   "source": [
    "if run_attn:\n",
    "    # Evaluate model after removing important attention heads\n",
    "    data = evaluate_all( opt, 1e5 )\n",
    "    df = df.append( data, ignore_index=True )\n",
    "    print( df.T )"
   ]
  },
  {
   "cell_type": "code",
   "execution_count": null,
   "metadata": {
    "tags": []
   },
   "outputs": [],
   "source": [
    "for i in range(0,4):\n",
    "    print('\\n\\n- RUNNING RUN No', i )\n",
    "    data = delete_ff_and_evaluate( opt, ff_frac_removed, ff_epsilon )\n",
    "    df = df.append( data, ignore_index=True )\n",
    "    print( df.T )"
   ]
  },
  {
   "cell_type": "code",
   "execution_count": null,
   "metadata": {
    "tags": []
   },
   "outputs": [],
   "source": [
    "for i in range(4,8):\n",
    "    print('\\n\\n- RUNNING RUN No', i )\n",
    "    data = delete_ff_and_evaluate( opt, ff_frac_removed, ff_epsilon )\n",
    "    df = df.append( data, ignore_index=True )\n",
    "    print( df.T )"
   ]
  },
  {
   "cell_type": "code",
   "execution_count": null,
   "metadata": {},
   "outputs": [],
   "source": [
    "for i in range(8,12):\n",
    "    print('\\n\\n- RUNNING RUN No', i )\n",
    "    data = delete_ff_and_evaluate( opt, ff_frac_removed, ff_epsilon )\n",
    "    df = df.append( data, ignore_index=True )\n",
    "    print( df.T )"
   ]
  }
 ],
 "metadata": {
  "kernelspec": {
   "display_name": "Python 3 (ipykernel)",
   "language": "python",
   "name": "python3"
  },
  "language_info": {
   "codemirror_mode": {
    "name": "ipython",
    "version": 3
   },
   "file_extension": ".py",
   "mimetype": "text/x-python",
   "name": "python",
   "nbconvert_exporter": "python",
   "pygments_lexer": "ipython3",
   "version": "3.9.13"
  },
  "vscode": {
   "interpreter": {
    "hash": "b0fa6594d8f4cbf19f97940f81e996739fb7646882a419484c72d19e05852a7e"
   }
  }
 },
 "nbformat": 4,
 "nbformat_minor": 4
}
