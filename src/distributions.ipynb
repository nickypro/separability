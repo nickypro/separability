{
 "cells": [
  {
   "attachments": {},
   "cell_type": "markdown",
   "id": "9ccd7e32",
   "metadata": {},
   "source": [
    "# Distributions\n",
    "\n",
    "We look at neuron activation distributions"
   ]
  },
  {
   "attachments": {},
   "cell_type": "markdown",
   "id": "3357e8d0",
   "metadata": {},
   "source": [
    "## Get Activations\n",
    "We first import dependancies and run the model to get some neuron distributions"
   ]
  },
  {
   "cell_type": "code",
   "execution_count": null,
   "id": "52081088",
   "metadata": {},
   "outputs": [],
   "source": [
    "try: # if in google colab, download necessary python files\n",
    "  import google.colab \n",
    "  ! pip install -qq seperability\n",
    "except ModuleNotFoundError:\n",
    "  pass"
   ]
  },
  {
   "cell_type": "code",
   "execution_count": null,
   "id": "430583f1-9dfe-4cb0-acbd-bffd8cc4124b",
   "metadata": {
    "tags": []
   },
   "outputs": [],
   "source": [
    "import torch\n",
    "import numpy as np\n",
    "import matplotlib as mpl\n",
    "import matplotlib.pyplot as plt\n",
    "\n",
    "from seperability import Model\n",
    "from seperability.activations import get_midlayer_activations"
   ]
  },
  {
   "cell_type": "code",
   "execution_count": null,
   "id": "0ec434dd-3c2e-4f9a-851c-f58c59203f1e",
   "metadata": {},
   "outputs": [],
   "source": [
    "opt = Model('125m', limit=1000)\n",
    "dataset = 'pile'"
   ]
  },
  {
   "cell_type": "code",
   "execution_count": null,
   "id": "6e40b996-bd78-4598-bf29-923140701433",
   "metadata": {},
   "outputs": [],
   "source": [
    "data = get_midlayer_activations( opt, dataset, 1e4, collect_ff=True, collect_attn=True )\n",
    "\n",
    "ff_activations   = data[\"raw\"][\"ff\"].permute( (1,2,0) )\n",
    "attn_activations = data[\"raw\"][\"attn\"].permute( (1,2,3,0) ).reshape( (opt.n_layers, opt.d_model, -1) )\n",
    "print( ff_activations.size() )\n",
    "print( attn_activations.size() )"
   ]
  },
  {
   "attachments": {},
   "cell_type": "markdown",
   "id": "b47ece08",
   "metadata": {},
   "source": [
    "## Plot Distributions for Neurons\n",
    "We can investigate the distribution of some random neurons in the network."
   ]
  },
  {
   "cell_type": "code",
   "execution_count": null,
   "id": "d712d841-23d3-4bc8-94ae-5100f8e0d5e8",
   "metadata": {},
   "outputs": [],
   "source": [
    "def plot_activation_indices(activations, indices):\n",
    "    for j in range(opt.n_layers):\n",
    "        for i in indices:\n",
    "            counts, bins = np.histogram( activations[j][i].cpu().numpy(), bins=100 )\n",
    "            mids = (bins[:-1] + bins[1:]) / 2\n",
    "            plt.semilogy( mids, counts )\n",
    "        plt.show()"
   ]
  },
  {
   "cell_type": "code",
   "execution_count": null,
   "id": "98e8ee26",
   "metadata": {},
   "outputs": [],
   "source": [
    "plot_activation_indices( ff_activations, [0, 10, 100, 200, 300, 400, 500 ] )"
   ]
  },
  {
   "cell_type": "code",
   "execution_count": null,
   "id": "4eafe303",
   "metadata": {},
   "outputs": [],
   "source": [
    "\n",
    "plot_activation_indices( attn_activations, [0, 10, 100, 200, 300, 400, 500 ] )"
   ]
  },
  {
   "cell_type": "code",
   "execution_count": null,
   "id": "05c754ba-8f8f-4204-85ae-7356226cbf8f",
   "metadata": {},
   "outputs": [],
   "source": [
    "attn_means = torch.mean( attn_activations, dim=-1)\n",
    "attn_indices = torch.sort( attn_means, dim=-1 ).indices.cpu().numpy()\n",
    "indices = set([])\n",
    "for i in range(opt.n_layers):\n",
    "    indices.add( attn_indices[i][-1] )\n",
    "    indices.add( attn_indices[i][-2] )\n",
    "indices = np.sort( np.array(list(indices)) )\n",
    "n_items = len(indices)"
   ]
  },
  {
   "cell_type": "code",
   "execution_count": null,
   "id": "845eda48-cd3e-436c-a349-5b4e55728c7f",
   "metadata": {},
   "outputs": [],
   "source": [
    "for j in range(opt.n_layers):\n",
    "    for i in indices:\n",
    "        rgb = mpl.colors.hsv_to_rgb( (1, 1, i/n_items) )\n",
    "        print( rgb )\n",
    "        counts, bins = np.histogram( ff_activations[j][i].cpu().numpy(), bins=50 )\n",
    "        mids = (bins[:-1] + bins[1:]) / 2\n",
    "        plt.semilogy( mids, counts, label=f\" dim {i}\", color = rgb )\n",
    "    plt.legend()\n",
    "    plt.show()"
   ]
  }
 ],
 "metadata": {
  "kernelspec": {
   "display_name": ".venv",
   "language": "python",
   "name": "python3"
  },
  "language_info": {
   "codemirror_mode": {
    "name": "ipython",
    "version": 3
   },
   "file_extension": ".py",
   "mimetype": "text/x-python",
   "name": "python",
   "nbconvert_exporter": "python",
   "pygments_lexer": "ipython3",
   "version": "3.8.0"
  },
  "vscode": {
   "interpreter": {
    "hash": "caa55a89e6d7ad9e85de7c571769c816c820344d6fb9c860a740c7fc03f95f43"
   }
  }
 },
 "nbformat": 4,
 "nbformat_minor": 5
}
