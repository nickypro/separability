{
 "cells": [
  {
   "cell_type": "markdown",
   "metadata": {},
   "source": [
    "# separability Insight into OPT models\n",
    "Tests to see if it is possible to remove coding ability from Meta OPT model for different scales.\n",
    "Current methods are:\n",
    "- look at activation frequency of MLP mid layers\n",
    "- Look at 'crossover threshold' of Attention heads"
   ]
  },
  {
   "cell_type": "code",
   "execution_count": null,
   "metadata": {},
   "outputs": [],
   "source": [
    "try: # if in google colab, download necessary python files\n",
    "  import google.colab \n",
    "  ! pip install -qq separability\n",
    "  ! git clone https://github.com/pesvut/opt-tools.git && mv ./opt-tools/src/*.py .\n",
    "except ModuleNotFoundError:\n",
    "  pass"
   ]
  },
  {
   "cell_type": "code",
   "execution_count": null,
   "metadata": {},
   "outputs": [],
   "source": [
    "import torch\n",
    "import numpy as np\n",
    "import pandas as pd\n",
    "import einops\n",
    "import matplotlib.pyplot as plt\n",
    "import wandb\n",
    "\n",
    "from separability import Model\n",
    "from separability.data_classes import RunDataHistory\n",
    "from separability.activations import prune_and_evaluate, evaluate_all"
   ]
  },
  {
   "cell_type": "code",
   "execution_count": null,
   "metadata": {},
   "outputs": [],
   "source": [
    "# Configure initial model and tests\n",
    "model_size, token_limit  = \"facebook/opt-13b\", 1000\n",
    "run_pre_test             = True\n",
    "pre_removals = []\n",
    "\n",
    "# Removals parameters\n",
    "ff_frac,   ff_eps   = 0.03, 0.001\n",
    "attn_frac           = 0.005\n",
    "focus, cripple      = \"code\", \"python\"\n",
    "project             = \"separability-code-python\" #\"separability-pile-code\"\n",
    "datasets            = [focus, cripple]"
   ]
  },
  {
   "cell_type": "code",
   "execution_count": null,
   "metadata": {},
   "outputs": [],
   "source": [
    "# Prepare data logging\n",
    "wandb.init(project=project, entity=\"separability\")\n",
    "c = wandb.config\n",
    "c.update({\n",
    "    \"model_size\"  : model_size,\n",
    "    \"token_limit\" : token_limit,\n",
    "    \"run_pre_test\": run_pre_test,\n",
    "    \"ff_frac\"  : ff_frac,\n",
    "    \"ff_eps\"   : ff_eps,\n",
    "    \"attn_frac\": attn_frac,\n",
    "    \"cripple\": cripple,\n",
    "    \"focus\"  : focus,\n",
    "})\n",
    "\n",
    "# Load model and show details about model\n",
    "history = RunDataHistory(datasets)\n",
    "opt = Model( c.model_size, limit=c.token_limit, dtype=torch.float16 )\n",
    "\n",
    "# Pre-pruning of model\n",
    "opt.delete_ff_keys_from_files(pre_removals)"
   ]
  },
  {
   "cell_type": "code",
   "execution_count": null,
   "metadata": {},
   "outputs": [],
   "source": [
    "# Evaluate model before removal of any neurons\n",
    "if c.run_pre_test:\n",
    "    history.add( evaluate_all( opt, 1e5, datasets ) )\n",
    "    print( history.df.T )"
   ]
  },
  {
   "cell_type": "code",
   "execution_count": null,
   "metadata": {},
   "outputs": [],
   "source": [
    "# First do some pruning of the feed forward layers\n",
    "for i in range(20):\n",
    "    data = prune_and_evaluate( opt, c.ff_frac, c.attn_frac, c.ff_eps, cripple=c.cripple, focus=c.focus )\n",
    "    history.add( data )"
   ]
  },
  {
   "cell_type": "code",
   "execution_count": null,
   "metadata": {},
   "outputs": [],
   "source": [
    "print(history.history[-1])"
   ]
  },
  {
   "cell_type": "code",
   "execution_count": null,
   "metadata": {},
   "outputs": [],
   "source": [
    "print(history.df.T)"
   ]
  },
  {
   "cell_type": "code",
   "execution_count": null,
   "metadata": {},
   "outputs": [],
   "source": [
    "print(history.df.T.to_csv())"
   ]
  }
 ],
 "metadata": {
  "kernelspec": {
   "display_name": ".venv",
   "language": "python",
   "name": "python3"
  },
  "language_info": {
   "codemirror_mode": {
    "name": "ipython",
    "version": 3
   },
   "file_extension": ".py",
   "mimetype": "text/x-python",
   "name": "python",
   "nbconvert_exporter": "python",
   "pygments_lexer": "ipython3",
   "version": "3.8.10"
  },
  "vscode": {
   "interpreter": {
    "hash": "ca0d5257a48bb35c8e3220d806560fca54b353f27ee25a93daa6afb4720b44ae"
   }
  }
 },
 "nbformat": 4,
 "nbformat_minor": 4
}
