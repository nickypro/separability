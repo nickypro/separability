{
 "cells": [
  {
   "cell_type": "markdown",
   "metadata": {},
   "source": [
    "# Seperability Insight into OPT models\n",
    "Tests to see if it is possible to remove coding ability from Meta OPT model for different scales.\n",
    "Current methods are:\n",
    "- look at activation frequency of MLP mid layers\n",
    "- Look at 'crossover threshold' of Attention heads"
   ]
  },
  {
   "cell_type": "code",
   "execution_count": null,
   "metadata": {},
   "outputs": [],
   "source": [
    "try: # if in google colab, download necessary python files\n",
    "  import google.colab \n",
    "  ! git clone https://github.com/pesvut/opt-tools.git && mv ./opt-tools/src/*.py .\n",
    "except ModuleNotFoundError:\n",
    "  pass\n",
    "! pip3 install -qq transformers datasets evaluate zstandard welford-torch einops"
   ]
  },
  {
   "cell_type": "code",
   "execution_count": null,
   "metadata": {},
   "outputs": [],
   "source": [
    "import torch\n",
    "import numpy as np\n",
    "import pandas as pd\n",
    "import einops\n",
    "import matplotlib.pyplot as plt\n",
    "\n",
    "from model import Model\n",
    "from texts import prepare\n",
    "from activations import prune_and_evaluate, evaluate_all, init_data_dict\n",
    "\n",
    "# df.append has FutureWarning, here is the alternative\n",
    "def append( df: pd.DataFrame, data: dict ):\n",
    "    data = pd.DataFrame({ k:[v] for k,v in data.items() })\n",
    "    return pd.concat([ df, data ], ignore_index=True )"
   ]
  },
  {
   "cell_type": "code",
   "execution_count": null,
   "metadata": {},
   "outputs": [],
   "source": [
    "# Configure initial model and tests\n",
    "model_size, token_limit  = \"125m\", 1000\n",
    "run_pre_test             = False\n",
    "pre_removals = []\n",
    "\n",
    "# Removals parameters\n",
    "ff_frac,   ff_eps   = 0.05, 0.001\n",
    "attn_frac           = 0.05\n",
    "\n",
    "# init panda data frame for saving nice relevant data\n",
    "df = pd.DataFrame()"
   ]
  },
  {
   "cell_type": "code",
   "execution_count": null,
   "metadata": {},
   "outputs": [],
   "source": [
    "# Load model and show details about model\n",
    "opt = Model( model_size, limit=token_limit )\n",
    "\n",
    "# Pre-pruning of model\n",
    "opt.delete_ff_keys_from_files(pre_removals)"
   ]
  },
  {
   "cell_type": "code",
   "execution_count": null,
   "metadata": {},
   "outputs": [],
   "source": [
    "# Evaluate model before removal of any neurons\n",
    "if run_pre_test:\n",
    "    data = init_data_dict()\n",
    "    data.update( evaluate_all( opt, 1e5 ) )\n",
    "    df = append( df, data )\n",
    "    print( df.T )"
   ]
  },
  {
   "cell_type": "code",
   "execution_count": null,
   "metadata": {},
   "outputs": [],
   "source": [
    "prune_and_evaluate( opt, ff_frac, attn_frac, ff_eps )"
   ]
  }
 ],
 "metadata": {
  "kernelspec": {
   "display_name": "Python 3 (ipykernel)",
   "language": "python",
   "name": "python3"
  },
  "language_info": {
   "codemirror_mode": {
    "name": "ipython",
    "version": 3
   },
   "file_extension": ".py",
   "mimetype": "text/x-python",
   "name": "python",
   "nbconvert_exporter": "python",
   "pygments_lexer": "ipython3",
   "version": "3.9.13"
  },
  "vscode": {
   "interpreter": {
    "hash": "b0fa6594d8f4cbf19f97940f81e996739fb7646882a419484c72d19e05852a7e"
   }
  }
 },
 "nbformat": 4,
 "nbformat_minor": 4
}
