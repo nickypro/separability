{
 "cells": [
  {
   "cell_type": "code",
   "execution_count": 11,
   "metadata": {},
   "outputs": [
    {
     "name": "stdout",
     "output_type": "stream",
     "text": [
      "{'loss_data': {'testing': 123}, 'accuracy': {}, 'misc': {}}\n"
     ]
    }
   ],
   "source": [
    "from dataclasses import dataclass\n",
    "\n",
    "def _set_empty_attrs_to_dict(__class):\n",
    "    for attr in __class.__dataclass_fields__:\n",
    "        __attr = getattr(__class, attr)\n",
    "        if __attr is None:\n",
    "            setattr(__class, attr, {}) \n",
    "\n",
    "@dataclass\n",
    "class EvalOutput:\n",
    "    loss:    dict = None\n",
    "    percent: dict = None\n",
    "    misc:    dict = None\n",
    "    \n",
    "    def __post_init__(self):\n",
    "        _set_empty_attrs_to_dict(self)\n",
    "    \n",
    "@dataclass\n",
    "class EvalAllOutput:\n",
    "    loss_data: dict = None\n",
    "    accuracy:  dict = None\n",
    "    misc:      dict = None\n",
    "    \n",
    "    def __post_init__(self):\n",
    "        _set_empty_attrs_to_dict(self)\n",
    "\n",
    "    def add(self, dataset: str, data: EvalOutput):\n",
    "        self.loss_data[dataset] = data.loss\n",
    "        self.accuracy[dataset]  = data.percent\n",
    "        self.misc[dataset]      = data.misc\n",
    "\n",
    "    def to_dict(self):\n",
    "        _dict = {}\n",
    "        for attr in self.__dataclass_fields__:\n",
    "            _dict[attr] = getattr(self, attr)\n",
    "        return _dict\n",
    "    \n",
    "o = EvalAllOutput(loss_data={'testing': 123})\n",
    "print(o.to_dict())\n"
   ]
  }
 ],
 "metadata": {
  "kernelspec": {
   "display_name": ".venv",
   "language": "python",
   "name": "python3"
  },
  "language_info": {
   "codemirror_mode": {
    "name": "ipython",
    "version": 3
   },
   "file_extension": ".py",
   "mimetype": "text/x-python",
   "name": "python",
   "nbconvert_exporter": "python",
   "pygments_lexer": "ipython3",
   "version": "3.10.11"
  },
  "orig_nbformat": 4
 },
 "nbformat": 4,
 "nbformat_minor": 2
}
