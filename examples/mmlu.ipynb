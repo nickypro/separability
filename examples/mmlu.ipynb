{
 "cells": [
  {
   "cell_type": "code",
   "execution_count": null,
   "metadata": {},
   "outputs": [],
   "source": [
    "from separability import Model\n",
    "from separability.eval import evaluate\n",
    "\n",
    "m = Model(\"facebook/galactica-1.3b\")"
   ]
  },
  {
   "cell_type": "code",
   "execution_count": null,
   "metadata": {},
   "outputs": [],
   "source": [
    "data = evaluate(m, \"mmlu:all\")\n",
    "print(data[\"accuracy\"])\n",
    "print(\n",
    "    \"%.1f%%\" % (data[\"accuracy\"][\"percentage_correct\"]),\n",
    "    f'({data[\"num_accurate\"]}/{data[\"num_predictions\"]})',\n",
    ")\n",
    "\n",
    "topics = [\n",
    "    \"abstract_algebra\",\n",
    "    \"elementary_mathematics\", \n",
    "    \"high_school_mathematics\",\n",
    "    \"college_mathematics\",\n",
    "    \"formal_logic\",\n",
    "    \"high_school_biology\",\n",
    "    \"college_biology\",\n",
    "    \"computer_security\",\n",
    "    \"marketing\",\n",
    "    \"sociology\",\n",
    "]\n",
    "\n",
    "verbose = True \n",
    "for topic in topics:\n",
    "    data = evaluate(m, f\"mmlu:{topic}\", verbose=verbose)\n",
    "    print(\n",
    "        \"%.1f%%\" % (data[\"accuracy\"][\"percentage_correct\"]),\n",
    "        f'({data[\"num_accurate\"]}/{data[\"num_predictions\"]})',\n",
    "        topic,\n",
    "    ) \n",
    "    verbose=False\n",
    "    "
   ]
  },
  {
   "cell_type": "code",
   "execution_count": null,
   "metadata": {},
   "outputs": [],
   "source": [
    "evaluate(m, \"mmlu:all\") "
   ]
  }
 ],
 "metadata": {
  "kernelspec": {
   "display_name": ".venv",
   "language": "python",
   "name": "python3"
  },
  "language_info": {
   "codemirror_mode": {
    "name": "ipython",
    "version": 3
   },
   "file_extension": ".py",
   "mimetype": "text/x-python",
   "name": "python",
   "nbconvert_exporter": "python",
   "pygments_lexer": "ipython3",
   "version": "3.10.11"
  },
  "orig_nbformat": 4
 },
 "nbformat": 4,
 "nbformat_minor": 2
}
