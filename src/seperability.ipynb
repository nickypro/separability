{
 "cells": [
  {
   "cell_type": "markdown",
   "metadata": {},
   "source": [
    "# Seperability Insight into OPT models\n",
    "Tests to see if it is possible to remove coding ability from Meta OPT model for different scales.\n",
    "Current methods are:\n",
    "- look at activation frequency of MLP mid layers\n",
    "- Look at 'crossover threshold' of Attention heads"
   ]
  },
  {
   "cell_type": "code",
   "execution_count": null,
   "metadata": {},
   "outputs": [],
   "source": [
    "try: # if in google colab, download necessary python files\n",
    "  import google.colab\n",
    "  ! git clone https://github.com/pesvut/opt-tools.git && mv ./opt-tools/src/*.py .\n",
    "except ModuleNotFoundError:\n",
    "  pass\n",
    "! pip install -qq transformers datasets evaluate zstandard welford einops"
   ]
  },
  {
   "cell_type": "code",
   "execution_count": null,
   "metadata": {},
   "outputs": [],
   "source": [
    "import torch\n",
    "import numpy as np\n",
    "import pandas as pd\n",
    "import einops\n",
    "import matplotlib.pyplot as plt\n",
    "\n",
    "from model import Model\n",
    "from texts import prepare\n",
    "from activations import calculate_attn_crossover, \\\n",
    "    delete_ff_and_evaluate, evaluate_all"
   ]
  },
  {
   "cell_type": "code",
   "execution_count": null,
   "metadata": {},
   "outputs": [],
   "source": [
    "# Load model and show details about model\n",
    "opt = Model( \"125m\", limit=1000 )\n",
    "opt.show_details( False )\n",
    "\n",
    "# Pre-pruning of model\n",
    "pre_removals = []\n",
    "opt.delete_ff_keys_from_files(pre_removals)"
   ]
  },
  {
   "cell_type": "code",
   "execution_count": null,
   "metadata": {},
   "outputs": [],
   "source": [
    "# init panda data frame for saving nice relevant data\n",
    "df = pd.DataFrame()"
   ]
  },
  {
   "cell_type": "code",
   "execution_count": null,
   "metadata": {},
   "outputs": [],
   "source": [
    "# Configure tests ( set value to zero to skip )\n",
    "model_size, token_limit  = \"1.3b\", 1000\n",
    "attn_crossover_threshold = 2\n",
    "ff_frac_removed   = 0.02\n",
    "ff_epsilon        = 0.01\n",
    "pre_removals = [\n",
    "]\n",
    "run_attn = not ( attn_crossover_threshold == 0 )"
   ]
  },
  {
   "cell_type": "code",
   "execution_count": null,
   "metadata": {},
   "outputs": [],
   "source": [
    "# Evaluate model before removal of any neurons\n",
    "data = evaluate_all( opt, 1e5 )\n",
    "df = df.append( data, ignore_index=True )\n",
    "print( df.T )"
   ]
  },
  {
   "cell_type": "code",
   "execution_count": null,
   "metadata": {},
   "outputs": [],
   "source": [
    "if run_attn:\n",
    "    # Choose Attn Heads to Remove\n",
    "    removals      = attn_data['crossover_multiple'] > attn_crossover_threshold\n",
    "    log_crossover = ( np.log2(attn_data['crossover_multiple']) )\n",
    "\n",
    "    # Plot Attn Heads\n",
    "    fig, ax = plt.subplots(1, 2)\n",
    "    ax[0].imshow( attn_data['removals'] )\n",
    "    ax[1].imshow( np.log2(attn_data['crossover_multiple']) )\n",
    "    plt.show()"
   ]
  },
  {
   "cell_type": "code",
   "execution_count": null,
   "metadata": {},
   "outputs": [],
   "source": [
    "if run_attn:\n",
    "    # Evaluate model after removing important attention heads\n",
    "    data = evaluate_all( opt, 1e5 )\n",
    "    df = df.append( data, ignore_index=True )\n",
    "    print( df.T )"
   ]
  },
  {
   "cell_type": "code",
   "execution_count": null,
   "metadata": {
    "tags": []
   },
   "outputs": [],
   "source": [
    "for i in range(0,4):\n",
    "    print('\\n\\n- RUNNING RUN No', i )\n",
    "    data = delete_ff_and_evaluate( opt, ff_frac_removed, ff_epsilon )\n",
    "    df = df.append( data, ignore_index=True )\n",
    "    print( df.T )"
   ]
  },
  {
   "cell_type": "code",
   "execution_count": null,
   "metadata": {
    "tags": []
   },
   "outputs": [],
   "source": [
    "for i in range(4,8):\n",
    "    print('\\n\\n- RUNNING RUN No', i )\n",
    "    data = delete_ff_and_evaluate( opt, ff_frac_removed, ff_epsilon )\n",
    "    df = df.append( data, ignore_index=True )\n",
    "    print( df.T )"
   ]
  },
  {
   "cell_type": "code",
   "execution_count": null,
   "metadata": {},
   "outputs": [],
   "source": [
    "for i in range(8,12):\n",
    "    print('\\n\\n- RUNNING RUN No', i )\n",
    "    data = delete_ff_and_evaluate( opt, ff_frac_removed, ff_epsilon )\n",
    "    df = df.append( data, ignore_index=True )\n",
    "    print( df.T )"
   ]
  }
 ],
 "metadata": {
  "kernelspec": {
   "display_name": "Python 3 (ipykernel)",
   "language": "python",
   "name": "python3"
  },
  "language_info": {
   "codemirror_mode": {
    "name": "ipython",
    "version": 3
   },
   "file_extension": ".py",
   "mimetype": "text/x-python",
   "name": "python",
   "nbconvert_exporter": "python",
   "pygments_lexer": "ipython3",
   "version": "3.10.6 (main, Nov  2 2022, 18:53:38) [GCC 11.3.0]"
  },
  "vscode": {
   "interpreter": {
    "hash": "767d51c1340bd893661ea55ea3124f6de3c7a262a8b4abca0554b478b1e2ff90"
   }
  }
 },
 "nbformat": 4,
 "nbformat_minor": 4
}
