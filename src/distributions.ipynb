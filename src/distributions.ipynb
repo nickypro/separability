{
 "cells": [
  {
   "cell_type": "code",
   "execution_count": null,
   "id": "430583f1-9dfe-4cb0-acbd-bffd8cc4124b",
   "metadata": {
    "tags": []
   },
   "outputs": [],
   "source": [
    "! pip install -qq requirements.txt\n",
    "import torch\n",
    "import numpy as np\n",
    "import matplotlib.pyplot as plt\n",
    "from model import Model\n",
    "from texts import prepare\n",
    "import matplotlib as mpl"
   ]
  },
  {
   "cell_type": "code",
   "execution_count": null,
   "id": "0ec434dd-3c2e-4f9a-851c-f58c59203f1e",
   "metadata": {},
   "outputs": [],
   "source": [
    "opt = Model('125m', limit=1000)\n",
    "dataset, label, skip = prepare('pile')"
   ]
  },
  {
   "cell_type": "code",
   "execution_count": null,
   "id": "6e40b996-bd78-4598-bf29-923140701433",
   "metadata": {},
   "outputs": [],
   "source": [
    "ff_collector = []\n",
    "attn_collector = []\n",
    "count = 0\n",
    "\n",
    "for data in dataset:\n",
    "    count += 1\n",
    "    text = data[label]\n",
    "    #res = opt.get_residual_stream( text ).permute( (1,0,2) ).cpu()\n",
    "    inpt, ff, attn, output = opt.get_text_activations( text )\n",
    "    ff   = ff.transpose( 0, 1 )\n",
    "    attn = attn.transpose( 0, 1 )\n",
    "\n",
    "    for activation in ff:\n",
    "        ff_collector.append( activation )\n",
    "    for activation in attn:\n",
    "        attn_collector.append( activation )\n",
    "    \n",
    "    if count >= 20:\n",
    "        break\n",
    "\n",
    "ff_activations = torch.stack( ff_collector ).permute( (1,2,0) )\n",
    "attn_activations = torch.stack( attn_collector ).permute( (1,2,0) )\n",
    "print( ff_activations.size() )\n",
    "print( attn_activations.size() )"
   ]
  },
  {
   "cell_type": "code",
   "execution_count": null,
   "id": "d712d841-23d3-4bc8-94ae-5100f8e0d5e8",
   "metadata": {},
   "outputs": [],
   "source": [
    "for j in range(opt.n_layers):\n",
    "    for i in [0, 10, 100, 200, 300, 400, 500 ]:\n",
    "        counts, bins = np.histogram( ff_activations[j][i].cpu().numpy(), bins=100 )\n",
    "        mids = (bins[:-1] + bins[1:]) / 2\n",
    "        plt.semilogy( mids, counts )\n",
    "    plt.show()"
   ]
  },
  {
   "cell_type": "code",
   "execution_count": null,
   "id": "28776635-3ceb-4c93-b287-d04b18a0185a",
   "metadata": {},
   "outputs": [],
   "source": [
    "for j in range(opt.n_layers):\n",
    "    for i in [0, 10, 100, 200, 300, 400, 500 ]:\n",
    "        counts, bins = np.histogram( attn_activations[j][i].cpu().numpy(), bins=100 )\n",
    "        mids = (bins[:-1] + bins[1:]) / 2\n",
    "        plt.semilogy( mids, counts )\n",
    "    plt.show()"
   ]
  },
  {
   "cell_type": "code",
   "execution_count": null,
   "id": "05c754ba-8f8f-4204-85ae-7356226cbf8f",
   "metadata": {},
   "outputs": [],
   "source": [
    "attn_means = torch.mean( attn_activations, dim=-1)\n",
    "attn_indices = torch.sort( attn_means, dim=-1 ).indices.cpu().numpy()\n",
    "indices = set([])\n",
    "for i in range(opt.n_layers):\n",
    "    indices.add( attn_indices[i][-1] )\n",
    "    indices.add( attn_indices[i][-2] )\n",
    "indices = np.sort( np.array(list(indices)) )\n",
    "n_items = len(indices)"
   ]
  },
  {
   "cell_type": "code",
   "execution_count": null,
   "id": "845eda48-cd3e-436c-a349-5b4e55728c7f",
   "metadata": {},
   "outputs": [],
   "source": [
    "for j in range(12):\n",
    "    for i in indices:\n",
    "        rgb = mpl.colors.hsv_to_rgb( (1, 1, i/n_items) )\n",
    "        print( rgb )\n",
    "        counts, bins = np.histogram( ff_activations[j][i].cpu().numpy(), bins=50 )\n",
    "        mids = (bins[:-1] + bins[1:]) / 2\n",
    "        plt.semilogy( mids, counts, label=f\" dim {i}\", color = rgb )\n",
    "    plt.legend()\n",
    "    plt.show()"
   ]
  }
 ],
 "metadata": {
  "kernelspec": {
   "display_name": "Python 3",
   "language": "python",
   "name": "python3"
  },
  "language_info": {
   "codemirror_mode": {
    "name": "ipython",
    "version": 3
   },
   "file_extension": ".py",
   "mimetype": "text/x-python",
   "name": "python",
   "nbconvert_exporter": "python",
   "pygments_lexer": "ipython3",
   "version": "3.10.8 (main, Oct 13 2022, 09:48:40) [Clang 14.0.0 (clang-1400.0.29.102)]"
  },
  "vscode": {
   "interpreter": {
    "hash": "b0fa6594d8f4cbf19f97940f81e996739fb7646882a419484c72d19e05852a7e"
   }
  }
 },
 "nbformat": 4,
 "nbformat_minor": 5
}
