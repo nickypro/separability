{
 "cells": [
  {
   "cell_type": "markdown",
   "metadata": {},
   "source": [
    "# separability Insight into OPT models\n",
    "Tests to see if it is possible to remove coding ability from Meta OPT model for different scales.\n",
    "Current methods are:\n",
    "- look at activation frequency of MLP mid layers\n",
    "- Look at 'crossover threshold' of Attention heads"
   ]
  },
  {
   "cell_type": "code",
   "execution_count": null,
   "metadata": {},
   "outputs": [],
   "source": [
    "try: # if in google colab, download necessary python files\n",
    "  import google.colab \n",
    "  ! pip install -qq separability\n",
    "  ! git clone https://github.com/pesvut/opt-tools.git && mv ./opt-tools/src/*.py .\n",
    "except ModuleNotFoundError:\n",
    "  pass"
   ]
  },
  {
   "cell_type": "code",
   "execution_count": null,
   "metadata": {},
   "outputs": [],
   "source": [
    "import torch\n",
    "import numpy as np\n",
    "import pandas as pd\n",
    "import einops\n",
    "import matplotlib.pyplot as plt\n",
    "import wandb\n",
    "#import seaborn as sns\n",
    "\n",
    "from separability import Model\n",
    "from separability.data_classes import RunDataHistory\n",
    "from separability.activations import prune_and_evaluate, evaluate_all, get_top_frac"
   ]
  },
  {
   "cell_type": "code",
   "execution_count": null,
   "metadata": {},
   "outputs": [],
   "source": [
    "# Configure initial model and tests\n",
    "model_size, token_limit  = \"facebook/galactica-125m\", 1000\n",
    "pre_removals = []\n",
    "\n",
    "# Removals parameters\n",
    "project             = \"seperability-pile-code\"\n",
    "focus, cripple      = \"pile\", \"code\"\n",
    "datasets            = [focus, cripple]"
   ]
  },
  {
   "cell_type": "code",
   "execution_count": null,
   "metadata": {},
   "outputs": [],
   "source": [
    "# Prepare data logging\n",
    "wandb.init(project=project, entity=\"seperability\", mode=\"offline\")\n",
    "c = wandb.config\n",
    "c.update({\n",
    "})\n",
    "# Prepare data logging\n",
    "wandb.init(project=project, entity=\"seperability\")\n",
    "c = wandb.config\n",
    "c.update({\n",
    "    \"model_size\"  : model_size,\n",
    "    \"token_limit\" : token_limit,\n",
    "    \"run_pre_test\": False,\n",
    "    \"ff_frac\"  : 0.03,\n",
    "    \"ff_eps\"   : 1e-3,\n",
    "    \"attn_frac\": 0.005,\n",
    "    \"attn_eps\" : 1e-4,\n",
    "    \"cripple\": cripple,\n",
    "    \"focus\"  : focus,\n",
    "    \"attn_prune_type\": \"pre_out\",\n",
    "    \"svd_attn\": False,\n",
    "    \"svd_combine_biases\": False,\n",
    "    \"do_attn_mean_offset\": False,\n",
    "    \"attn_scoring\": \"abs\",\n",
    "    \"ff_scoring\": \"freq\",\n",
    "    \"attn_prune_heads\": False,\n",
    "    \"delete_residual_biases\": False,\n",
    "    \"do_attn_mean_offset\": False,\n",
    "})\n",
    "\n",
    "\n",
    "# Load model and show details about model\n",
    "history = RunDataHistory(datasets)\n",
    "opt = Model( c.model_size, limit=c.token_limit, dtype=torch.float16 )\n",
    "\n",
    "# Pre-pruning of model\n",
    "opt.delete_ff_keys_from_files(pre_removals)"
   ]
  },
  {
   "cell_type": "code",
   "execution_count": null,
   "metadata": {},
   "outputs": [],
   "source": [
    "print(opt.model.prune_heads)\n"
   ]
  },
  {
   "cell_type": "code",
   "execution_count": null,
   "metadata": {},
   "outputs": [],
   "source": [
    "# Evaluate model before removal of any neurons\n",
    "if c.run_pre_test:\n",
    "    history.add( evaluate_all( opt, 1e5, datasets ) )\n",
    "    print( history.df.T )"
   ]
  },
  {
   "cell_type": "code",
   "execution_count": null,
   "metadata": {},
   "outputs": [],
   "source": [
    "\n",
    "data = prune_and_evaluate( opt, c.ff_frac, c.attn_frac, c.ff_eps, c.attn_eps, save=True,\n",
    "    do_attn_mean_offset=c.do_attn_mean_offset, attn_scoring=c.attn_scoring,\n",
    "    attn_prune_heads=c.attn_prune_heads, cripple=c.cripple, focus=c.focus )\n",
    "history.add( data )"
   ]
  },
  {
   "cell_type": "code",
   "execution_count": null,
   "metadata": {},
   "outputs": [],
   "source": [
    "ff_scores   = history.history[-1].raw[\"ff_scores\"]\n",
    "attn_scores = history.history[-1].raw[\"attn_scores\"].reshape((opt.n_layers, opt.d_model))\n",
    "\n",
    "def indices_to_edges(indices):\n",
    "    edges = np.zeros(len(indices)*2)\n",
    "    edge_indices = np.zeros_like(edges)\n",
    "    edges[0::2] = indices\n",
    "    edges[1::2] = indices\n",
    "    edge_indices[0::2] = np.arange(len(indices))\n",
    "    edge_indices[1::2] = np.arange(len(indices))+1\n",
    "    return edges, edge_indices\n",
    "\n",
    "def plot_scores(scores, title):\n",
    "    s = np.array([ np.sort(arr)[::-1] for arr in scores ]).T\n",
    "    width = s.shape[0]\n",
    "    s_indices = np.array([ width - np.searchsorted(arr[::-1], 1) for arr in s.T]).T\n",
    "    s_edges, s_edge_indices = indices_to_edges(s_indices)\n",
    "    \n",
    "    criteria, threshold = get_top_frac(torch.tensor(s, dtype=torch.float32), 0.05)\n",
    "    c_indices = np.array([ width - np.searchsorted(arr[::-1], threshold) for arr in s.T]).T\n",
    "    c_edges, c_edge_indices = indices_to_edges(c_indices)\n",
    "    \n",
    "    criteria, threshold = get_top_frac(torch.tensor(s, dtype=torch.float32), 0.01)\n",
    "    t_indices = np.array([ width - np.searchsorted(arr[::-1], threshold) for arr in s.T]).T\n",
    "    t_edges, t_edge_indices = indices_to_edges(t_indices)\n",
    "    \n",
    "    plt.figure(figsize=(10, 4))\n",
    "    sns.heatmap(np.log10( s+0.001 ), center=0, vmin=-1, cmap=\"coolwarm\")\n",
    "    plt.plot(t_edge_indices, t_edges, color=\"black\", linewidth=1, alpha=1, label=\"Top 1%\")\n",
    "    plt.plot(c_edge_indices, c_edges, color=\"purple\", alpha=0.5, label=\"Top 5%\")\n",
    "    plt.plot(s_edge_indices, s_edges, color=\"black\", linestyle=\":\", alpha=0.5, label='\"Neutral\"')\n",
    "    plt.legend()\n",
    "    plt.title(title)\n",
    "    plt.xlabel(\"Layer\")\n",
    "    plt.ylabel(\"Neuron\")\n",
    "    plt.show()\n",
    "    \n",
    "plot_scores(ff_scores,   \"Feed Forward Scores (Activation Frequency Ratio, Log10)\")\n",
    "plot_scores(attn_scores, \"Attention Scores (Mean Abs Activation Ratio, Log10)\")\n"
   ]
  },
  {
   "cell_type": "code",
   "execution_count": null,
   "metadata": {},
   "outputs": [],
   "source": [
    "# First do some pruning of the feed forward layers\n",
    "for i in range(20):\n",
    "    data = prune_and_evaluate( opt, c.ff_frac, c.attn_frac, c.ff_eps, save=True,\n",
    "        attn_scoring=c.attn_scoring, cripple=c.cripple, focus=c.focus )\n",
    "    history.add( data )"
   ]
  },
  {
   "cell_type": "code",
   "execution_count": null,
   "metadata": {},
   "outputs": [],
   "source": [
    "print(history.history[-1])"
   ]
  },
  {
   "cell_type": "code",
   "execution_count": null,
   "metadata": {},
   "outputs": [],
   "source": [
    "print(history.df.T)"
   ]
  },
  {
   "cell_type": "code",
   "execution_count": null,
   "metadata": {},
   "outputs": [],
   "source": [
    "print(history.df.T.to_csv())"
   ]
  },
  {
   "cell_type": "code",
   "execution_count": null,
   "metadata": {},
   "outputs": [],
   "source": []
  }
 ],
 "metadata": {
  "kernelspec": {
   "display_name": ".venv",
   "language": "python",
   "name": "python3"
  },
  "language_info": {
   "codemirror_mode": {
    "name": "ipython",
    "version": 3
   },
   "file_extension": ".py",
   "mimetype": "text/x-python",
   "name": "python",
   "nbconvert_exporter": "python",
   "pygments_lexer": "ipython3",
   "version": "3.8.0"
  },
  "vscode": {
   "interpreter": {
    "hash": "ca0d5257a48bb35c8e3220d806560fca54b353f27ee25a93daa6afb4720b44ae"
   }
  }
 },
 "nbformat": 4,
 "nbformat_minor": 4
}
