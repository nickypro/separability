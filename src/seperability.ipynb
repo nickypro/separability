{
 "cells": [
  {
   "cell_type": "markdown",
   "metadata": {},
   "source": [
    "# Seperability Insight into OPT models\n",
    "Tests to see if it is possible to remove coding ability from Meta OPT model for different scales.\n",
    "Current methods are:\n",
    "- look at activation frequency of MLP mid layers\n",
    "- Look at 'crossover threshold' of Attention heads"
   ]
  },
  {
   "cell_type": "code",
   "execution_count": null,
   "metadata": {
    "vscode": {
     "languageId": "shellscript"
    }
   },
   "outputs": [],
   "source": [
    "try: # if in google colab, download necessary python files\n",
    "  import google.colab \n",
    "  ! git clone https://github.com/pesvut/opt-tools.git && mv ./opt-tools/src/*.py .\n",
    "except ModuleNotFoundError:\n",
    "  pass\n",
    "! pip3 install -qqr requirements.txt "
   ]
  },
  {
   "cell_type": "code",
   "execution_count": null,
   "metadata": {
    "vscode": {
     "languageId": "shellscript"
    }
   },
   "outputs": [],
   "source": [
    "import torch\n",
    "import numpy as np\n",
    "import pandas as pd\n",
    "import einops\n",
    "import matplotlib.pyplot as plt\n",
    "import wandb\n",
    "\n",
    "from model import Model\n",
    "from texts import prepare\n",
    "from activations import prune_and_evaluate, evaluate_all, init_data_dict\n",
    "\n",
    "# df.append has FutureWarning, here is the alternative\n",
    "def append( df: pd.DataFrame, data: dict ):\n",
    "    wandb.log(data)\n",
    "    data = pd.DataFrame({ k:[v] for k,v in data.items() })\n",
    "    return pd.concat([ df, data ], ignore_index=True )"
   ]
  },
  {
   "cell_type": "code",
   "execution_count": null,
   "metadata": {
    "vscode": {
     "languageId": "shellscript"
    }
   },
   "outputs": [],
   "source": [
    "# Configure initial model and tests\n",
    "model_size, token_limit  = \"125m\", 1000\n",
    "run_pre_test             = True\n",
    "pre_removals = []\n",
    "\n",
    "# Removals parameters\n",
    "ff_frac,   ff_eps   = 0.02, 0.001\n",
    "attn_frac           = 0.01\n",
    "cripple, focus      = \"code\", \"pile\"\n",
    "\n"
   ]
  },
  {
   "cell_type": "code",
   "execution_count": null,
   "metadata": {
    "vscode": {
     "languageId": "shellscript"
    }
   },
   "outputs": [],
   "source": [
    "# Prepare data logging\n",
    "wandb.init(project=\"seperability-code-pile\")\n",
    "df = pd.DataFrame()\n",
    "\n",
    "# Load model and show details about model\n",
    "opt = Model( model_size, limit=token_limit )\n",
    "\n",
    "# Pre-pruning of model\n",
    "opt.delete_ff_keys_from_files(pre_removals)"
   ]
  },
  {
   "cell_type": "code",
   "execution_count": null,
   "metadata": {
    "vscode": {
     "languageId": "shellscript"
    }
   },
   "outputs": [],
   "source": [
    "# Evaluate model before removal of any neurons\n",
    "if run_pre_test:\n",
    "    data = init_data_dict()\n",
    "    data.update( evaluate_all( opt, 1e4 ) )\n",
    "    df = append( df, data )"
   ]
  },
  {
   "cell_type": "code",
   "execution_count": null,
   "metadata": {
    "vscode": {
     "languageId": "shellscript"
    }
   },
   "outputs": [],
   "source": [
    "# First do some pruning of the feed forward layers\n",
    "for i in range(3):\n",
    "    data = prune_and_evaluate( opt, ff_frac, 0, ff_eps, cripple=cripple, focus=focus )\n",
    "    df = append( df, data )\n",
    "print(df.T)"
   ]
  },
  {
   "cell_type": "code",
   "execution_count": null,
   "metadata": {
    "vscode": {
     "languageId": "shellscript"
    }
   },
   "outputs": [],
   "source": [
    "# Next do some pruning of the feed forward layers + attention layers\n",
    "for i in range(3):\n",
    "    data = prune_and_evaluate( opt, ff_frac, attn_frac, ff_eps, cripple=cripple, focus=focus )\n",
    "    df = append( df, data )\n",
    "print(df.T)"
   ]
  }
 ],
 "metadata": {
  "kernelspec": {
   "display_name": ".venv",
   "language": "python",
   "name": "python3"
  },
  "language_info": {
   "codemirror_mode": {
    "name": "ipython",
    "version": 3
   },
   "file_extension": ".py",
   "mimetype": "text/x-python",
   "name": "python",
   "nbconvert_exporter": "python",
   "pygments_lexer": "ipython3",
   "version": "3.8.0"
  },
  "vscode": {
   "interpreter": {
    "hash": "caa55a89e6d7ad9e85de7c571769c816c820344d6fb9c860a740c7fc03f95f43"
   }
  }
 },
 "nbformat": 4,
 "nbformat_minor": 4
}
